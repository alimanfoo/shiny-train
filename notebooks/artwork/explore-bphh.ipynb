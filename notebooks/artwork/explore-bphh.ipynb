{
 "cells": [
  {
   "cell_type": "code",
   "execution_count": 12,
   "metadata": {},
   "outputs": [],
   "source": [
    "%run setup.ipynb\n",
    "%run ../gwss/setup.ipynb\n",
    "%run peak-utils.ipynb "
   ]
  },
  {
   "cell_type": "code",
   "execution_count": 48,
   "metadata": {},
   "outputs": [],
   "source": [
    "@numba.njit(nogil=True)\n",
    "def pair_diffs(x, y):\n",
    "    n = x.shape[0]\n",
    "    d = 0\n",
    "    for i in range(n):\n",
    "        d += (x[i] != y[i])\n",
    "    return d\n",
    "    \n",
    "\n",
    "@numba.njit(nogil=True)\n",
    "def pairwise_diffs_between(h1, h2):\n",
    "    n1 = h1.shape[1]\n",
    "    n2 = h2.shape[1]\n",
    "    out = np.empty((n1, n2), dtype=np.int32)\n",
    "    for i in range(n1):\n",
    "        for j in range(n2):\n",
    "            out[i, j] = pair_diffs(h1[:, i], h2[:, j])\n",
    "    return out.flatten()\n"
   ]
  },
  {
   "cell_type": "code",
   "execution_count": 49,
   "metadata": {},
   "outputs": [
    {
     "data": {
      "text/plain": [
       "array([0, 1, 1, 1, 2, 2, 2, 1, 1], dtype=int32)"
      ]
     },
     "execution_count": 49,
     "metadata": {},
     "output_type": "execute_result"
    }
   ],
   "source": [
    "h1 = np.array([[0, 0, 1], [1, 0, 0]])\n",
    "h2 = np.array([[0, 1, 1], [1, 1, 1]])\n",
    "pairwise_diffs_between(h1, h2)"
   ]
  },
  {
   "cell_type": "code",
   "execution_count": 34,
   "metadata": {},
   "outputs": [
    {
     "data": {
      "text/html": [
       "<div>\n",
       "<style scoped>\n",
       "    .dataframe tbody tr th:only-of-type {\n",
       "        vertical-align: middle;\n",
       "    }\n",
       "\n",
       "    .dataframe tbody tr th {\n",
       "        vertical-align: top;\n",
       "    }\n",
       "\n",
       "    .dataframe thead th {\n",
       "        text-align: right;\n",
       "    }\n",
       "</style>\n",
       "<table border=\"1\" class=\"dataframe\">\n",
       "  <thead>\n",
       "    <tr style=\"text-align: right;\">\n",
       "      <th></th>\n",
       "      <th>label</th>\n",
       "      <th>ox_code</th>\n",
       "      <th>population</th>\n",
       "      <th>label_aug</th>\n",
       "      <th>country</th>\n",
       "      <th>region</th>\n",
       "      <th>sex</th>\n",
       "      <th>m_s</th>\n",
       "    </tr>\n",
       "  </thead>\n",
       "  <tbody>\n",
       "    <tr>\n",
       "      <th>0</th>\n",
       "      <td>AA0040-Ca</td>\n",
       "      <td>AA0040-C</td>\n",
       "      <td>GHcol</td>\n",
       "      <td>AA0040-Ca [Ghana, Twifo_Praso, M F]</td>\n",
       "      <td>Ghana</td>\n",
       "      <td>Twifo_Praso</td>\n",
       "      <td>F</td>\n",
       "      <td>M</td>\n",
       "    </tr>\n",
       "    <tr>\n",
       "      <th>1</th>\n",
       "      <td>AA0040-Cb</td>\n",
       "      <td>AA0040-C</td>\n",
       "      <td>GHcol</td>\n",
       "      <td>AA0040-Cb [Ghana, Twifo_Praso, M F]</td>\n",
       "      <td>Ghana</td>\n",
       "      <td>Twifo_Praso</td>\n",
       "      <td>F</td>\n",
       "      <td>M</td>\n",
       "    </tr>\n",
       "    <tr>\n",
       "      <th>2</th>\n",
       "      <td>AA0041-Ca</td>\n",
       "      <td>AA0041-C</td>\n",
       "      <td>GHcol</td>\n",
       "      <td>AA0041-Ca [Ghana, Twifo_Praso, M F]</td>\n",
       "      <td>Ghana</td>\n",
       "      <td>Twifo_Praso</td>\n",
       "      <td>F</td>\n",
       "      <td>M</td>\n",
       "    </tr>\n",
       "    <tr>\n",
       "      <th>3</th>\n",
       "      <td>AA0041-Cb</td>\n",
       "      <td>AA0041-C</td>\n",
       "      <td>GHcol</td>\n",
       "      <td>AA0041-Cb [Ghana, Twifo_Praso, M F]</td>\n",
       "      <td>Ghana</td>\n",
       "      <td>Twifo_Praso</td>\n",
       "      <td>F</td>\n",
       "      <td>M</td>\n",
       "    </tr>\n",
       "    <tr>\n",
       "      <th>4</th>\n",
       "      <td>AA0042-Ca</td>\n",
       "      <td>AA0042-C</td>\n",
       "      <td>GHcol</td>\n",
       "      <td>AA0042-Ca [Ghana, Takoradi, M F]</td>\n",
       "      <td>Ghana</td>\n",
       "      <td>Takoradi</td>\n",
       "      <td>F</td>\n",
       "      <td>M</td>\n",
       "    </tr>\n",
       "  </tbody>\n",
       "</table>\n",
       "</div>"
      ],
      "text/plain": [
       "       label   ox_code population                            label_aug  \\\n",
       "0  AA0040-Ca  AA0040-C      GHcol  AA0040-Ca [Ghana, Twifo_Praso, M F]   \n",
       "1  AA0040-Cb  AA0040-C      GHcol  AA0040-Cb [Ghana, Twifo_Praso, M F]   \n",
       "2  AA0041-Ca  AA0041-C      GHcol  AA0041-Ca [Ghana, Twifo_Praso, M F]   \n",
       "3  AA0041-Cb  AA0041-C      GHcol  AA0041-Cb [Ghana, Twifo_Praso, M F]   \n",
       "4  AA0042-Ca  AA0042-C      GHcol     AA0042-Ca [Ghana, Takoradi, M F]   \n",
       "\n",
       "  country       region sex m_s  \n",
       "0   Ghana  Twifo_Praso   F   M  \n",
       "1   Ghana  Twifo_Praso   F   M  \n",
       "2   Ghana  Twifo_Praso   F   M  \n",
       "3   Ghana  Twifo_Praso   F   M  \n",
       "4   Ghana     Takoradi   F   M  "
      ]
     },
     "execution_count": 34,
     "metadata": {},
     "output_type": "execute_result"
    }
   ],
   "source": [
    "df_haps_a.head()"
   ]
  },
  {
   "cell_type": "code",
   "execution_count": 35,
   "metadata": {},
   "outputs": [
    {
     "data": {
      "text/html": [
       "<div>\n",
       "<style scoped>\n",
       "    .dataframe tbody tr th:only-of-type {\n",
       "        vertical-align: middle;\n",
       "    }\n",
       "\n",
       "    .dataframe tbody tr th {\n",
       "        vertical-align: top;\n",
       "    }\n",
       "\n",
       "    .dataframe thead th {\n",
       "        text-align: right;\n",
       "    }\n",
       "</style>\n",
       "<table border=\"1\" class=\"dataframe\">\n",
       "  <thead>\n",
       "    <tr style=\"text-align: right;\">\n",
       "      <th></th>\n",
       "      <th>label</th>\n",
       "      <th>ox_code</th>\n",
       "      <th>population</th>\n",
       "      <th>label_aug</th>\n",
       "      <th>country</th>\n",
       "      <th>region</th>\n",
       "      <th>sex</th>\n",
       "      <th>m_s</th>\n",
       "    </tr>\n",
       "  </thead>\n",
       "  <tbody>\n",
       "    <tr>\n",
       "      <th>0</th>\n",
       "      <td>AA0040-Ca</td>\n",
       "      <td>AA0040-C</td>\n",
       "      <td>GHcol</td>\n",
       "      <td>AA0040-Ca [Ghana, Twifo_Praso, M F]</td>\n",
       "      <td>Ghana</td>\n",
       "      <td>Twifo_Praso</td>\n",
       "      <td>F</td>\n",
       "      <td>M</td>\n",
       "    </tr>\n",
       "    <tr>\n",
       "      <th>1</th>\n",
       "      <td>AA0040-Cb</td>\n",
       "      <td>AA0040-C</td>\n",
       "      <td>GHcol</td>\n",
       "      <td>AA0040-Cb [Ghana, Twifo_Praso, M F]</td>\n",
       "      <td>Ghana</td>\n",
       "      <td>Twifo_Praso</td>\n",
       "      <td>F</td>\n",
       "      <td>M</td>\n",
       "    </tr>\n",
       "    <tr>\n",
       "      <th>2</th>\n",
       "      <td>AA0041-Ca</td>\n",
       "      <td>AA0041-C</td>\n",
       "      <td>GHcol</td>\n",
       "      <td>AA0041-Ca [Ghana, Twifo_Praso, M F]</td>\n",
       "      <td>Ghana</td>\n",
       "      <td>Twifo_Praso</td>\n",
       "      <td>F</td>\n",
       "      <td>M</td>\n",
       "    </tr>\n",
       "    <tr>\n",
       "      <th>3</th>\n",
       "      <td>AA0041-Cb</td>\n",
       "      <td>AA0041-C</td>\n",
       "      <td>GHcol</td>\n",
       "      <td>AA0041-Cb [Ghana, Twifo_Praso, M F]</td>\n",
       "      <td>Ghana</td>\n",
       "      <td>Twifo_Praso</td>\n",
       "      <td>F</td>\n",
       "      <td>M</td>\n",
       "    </tr>\n",
       "    <tr>\n",
       "      <th>4</th>\n",
       "      <td>AA0042-Ca</td>\n",
       "      <td>AA0042-C</td>\n",
       "      <td>GHcol</td>\n",
       "      <td>AA0042-Ca [Ghana, Takoradi, M F]</td>\n",
       "      <td>Ghana</td>\n",
       "      <td>Takoradi</td>\n",
       "      <td>F</td>\n",
       "      <td>M</td>\n",
       "    </tr>\n",
       "  </tbody>\n",
       "</table>\n",
       "</div>"
      ],
      "text/plain": [
       "       label   ox_code population                            label_aug  \\\n",
       "0  AA0040-Ca  AA0040-C      GHcol  AA0040-Ca [Ghana, Twifo_Praso, M F]   \n",
       "1  AA0040-Cb  AA0040-C      GHcol  AA0040-Cb [Ghana, Twifo_Praso, M F]   \n",
       "2  AA0041-Ca  AA0041-C      GHcol  AA0041-Ca [Ghana, Twifo_Praso, M F]   \n",
       "3  AA0041-Cb  AA0041-C      GHcol  AA0041-Cb [Ghana, Twifo_Praso, M F]   \n",
       "4  AA0042-Ca  AA0042-C      GHcol     AA0042-Ca [Ghana, Takoradi, M F]   \n",
       "\n",
       "  country       region sex m_s  \n",
       "0   Ghana  Twifo_Praso   F   M  \n",
       "1   Ghana  Twifo_Praso   F   M  \n",
       "2   Ghana  Twifo_Praso   F   M  \n",
       "3   Ghana  Twifo_Praso   F   M  \n",
       "4   Ghana     Takoradi   F   M  "
      ]
     },
     "execution_count": 35,
     "metadata": {},
     "output_type": "execute_result"
    }
   ],
   "source": [
    "df_haps_x.head()"
   ]
  },
  {
   "cell_type": "code",
   "execution_count": 17,
   "metadata": {},
   "outputs": [],
   "source": [
    "import dask"
   ]
  },
  {
   "cell_type": "code",
   "execution_count": 87,
   "metadata": {},
   "outputs": [],
   "source": [
    "bphh_root = zarr.open(str(here() / 'data/gwss/bphh/bphh.zarr'))"
   ]
  },
  {
   "cell_type": "code",
   "execution_count": 104,
   "metadata": {},
   "outputs": [],
   "source": [
    "def run_bphh(pop1, pop2, chromosome, window_size, n=50, seed=42, threshold=1):\n",
    "    np.random.seed(seed)\n",
    "\n",
    "    # avoid running the same scan twice\n",
    "    pop1, pop2 = sorted([pop1, pop2])\n",
    "\n",
    "    # setup zarr group to store data\n",
    "    grp_path = f'/{pop1}_{pop2}_{chromosome}_{window_size}_{n}_{seed}_{threshold}'\n",
    "    grp = bphh_root.require_group(grp_path)\n",
    "    complete = grp.attrs.get('complete', False)\n",
    "\n",
    "    if complete:\n",
    "        # previously run, load from zarr\n",
    "        windows = grp['windows'][:]\n",
    "        gwindows = grp['gwindows'][:]\n",
    "        bphh = grp['bphh'][:]\n",
    "\n",
    "    else:\n",
    "        \n",
    "        print('loading haplotypes')\n",
    "        if chromosome == 'X':\n",
    "            pos = callset_haps[chromosome]['variants/POS'][:]\n",
    "            ht = allel.GenotypeDaskArray(callset_haps[chromosome]['calldata/GT']).to_haplotypes().values\n",
    "\n",
    "            # locate haplotypes for populations\n",
    "            loc_pop1 = df_haps_x.query(pop_defs[pop1]['query']).index.values\n",
    "            if len(loc_pop1) > n:\n",
    "                loc_pop1 = sorted(np.random.choice(loc_pop1, size=n, replace=False))\n",
    "            loc_pop2 = df_haps_x.query(pop_defs[pop2]['query']).index.values\n",
    "            if len(loc_pop2) > n:\n",
    "                loc_pop2 = sorted(np.random.choice(loc_pop2, size=n, replace=False))\n",
    "            ht_pop1 = da.take(ht, loc_pop1, axis=1).compute()\n",
    "            ht_pop2 = da.take(ht, loc_pop2, axis=1).compute()\n",
    "\n",
    "        else:\n",
    "\n",
    "            # concatenate data from both arms\n",
    "            # remember, right arm goes on the left\n",
    "            arm_r = f'{chromosome}R'\n",
    "            arm_l = f'{chromosome}L'\n",
    "            pos_r = callset_haps[arm_r]['variants/POS'][:]\n",
    "            pos_l = callset_haps[arm_l]['variants/POS'][:]\n",
    "            pos = np.concatenate([pos_r, pos_l + len(genome[arm_r])])\n",
    "            ht_r = allel.GenotypeDaskArray(callset_haps[arm_r]['calldata/GT']).to_haplotypes().values\n",
    "            ht_l = allel.GenotypeDaskArray(callset_haps[arm_l]['calldata/GT']).to_haplotypes().values\n",
    "            ht = da.concatenate([ht_r, ht_l], axis=0)\n",
    "\n",
    "            # locate haplotypes for populations\n",
    "            loc_pop1 = df_haps_a.query(pop_defs[pop1]['query']).index.values\n",
    "            if len(loc_pop1) > n:\n",
    "                loc_pop1 = sorted(np.random.choice(loc_pop1, size=n, replace=False))\n",
    "            loc_pop2 = df_haps_a.query(pop_defs[pop2]['query']).index.values\n",
    "            if len(loc_pop2) > n:\n",
    "                loc_pop2 = sorted(np.random.choice(loc_pop2, size=n, replace=False))\n",
    "            ht_pop1 = da.take(ht, loc_pop1, axis=1).compute()\n",
    "            ht_pop2 = da.take(ht, loc_pop2, axis=1).compute()\n",
    "\n",
    "        # perform the scan\n",
    "        print('running scan')\n",
    "        gpos = np.take(gmap[chromosome], pos-1)\n",
    "        windows = allel.moving_statistic(pos, statistic=lambda v: [v[0], v[-1]], size=window_size, step=window_size)\n",
    "        gwindows = allel.moving_statistic(gpos, statistic=lambda v: [v[0], v[-1]], size=window_size, step=window_size)\n",
    "        ix_windows = list(allel.stats.window.index_windows(ht, size=window_size, step=window_size, start=0, stop=None))\n",
    "    #     result = np.array([\n",
    "    #         pairwise_diffs_between(ht_pop1[i:j], ht_pop2[i:j])\n",
    "    #         for i, j in ix_windows\n",
    "    #     ], dtype=int)\n",
    "        delayed_f = dask.delayed(pairwise_diffs_between)\n",
    "        result, = dask.compute([\n",
    "            delayed_f(ht_pop1[i:j], ht_pop2[i:j])\n",
    "            for i, j in ix_windows\n",
    "        ])\n",
    "        result = np.array(result)\n",
    "        bphh = (result <= threshold).sum(axis=1) / result.shape[1]\n",
    "\n",
    "        # store results\n",
    "        grp.create_dataset('windows', data=windows, overwrite=True)\n",
    "        grp.create_dataset('gwindows', data=gwindows, overwrite=True)\n",
    "        grp.create_dataset('bphh', data=bphh, overwrite=True)\n",
    "        grp.attrs['complete'] = True\n",
    "\n",
    "    return windows, gwindows, bphh\n",
    "    "
   ]
  },
  {
   "cell_type": "code",
   "execution_count": 105,
   "metadata": {},
   "outputs": [
    {
     "data": {
      "text/plain": [
       "['ao_col',\n",
       " 'bf_col',\n",
       " 'bf_gam',\n",
       " 'ci_col',\n",
       " 'cm_sav_gam',\n",
       " 'fr_gam',\n",
       " 'ga_gam',\n",
       " 'gh_col',\n",
       " 'gh_gam',\n",
       " 'gm',\n",
       " 'gn_gam',\n",
       " 'gq_gam',\n",
       " 'gw',\n",
       " 'ke',\n",
       " 'ug_gam']"
      ]
     },
     "execution_count": 105,
     "metadata": {},
     "output_type": "execute_result"
    }
   ],
   "source": [
    "pops = sorted(pop_defs)\n",
    "pops"
   ]
  },
  {
   "cell_type": "code",
   "execution_count": null,
   "metadata": {},
   "outputs": [
    {
     "name": "stdout",
     "output_type": "stream",
     "text": [
      "ao_col bf_col 2 1000\n",
      "CPU times: user 2.63 ms, sys: 52 µs, total: 2.68 ms\n",
      "Wall time: 1.85 ms\n",
      "ao_col bf_col 2 2000\n",
      "loading haplotypes\n",
      "running scan\n",
      "CPU times: user 5min 58s, sys: 3.85 s, total: 6min 2s\n",
      "Wall time: 26.3 s\n",
      "ao_col bf_col 3 1000\n",
      "CPU times: user 1.2 ms, sys: 23 µs, total: 1.23 ms\n",
      "Wall time: 1.18 ms\n",
      "ao_col bf_col 3 2000\n",
      "loading haplotypes\n",
      "running scan\n"
     ]
    }
   ],
   "source": [
    "for pop1, pop2 in itertools.combinations(pops, 2):\n",
    "    for chromosome in '23X':\n",
    "        for window_size in 1000, 2000:\n",
    "            print(pop1, pop2, chromosome, window_size)\n",
    "            %time run_bphh(pop1, pop2, chromosome, window_size=window_size, n=50);"
   ]
  },
  {
   "cell_type": "code",
   "execution_count": 99,
   "metadata": {},
   "outputs": [
    {
     "data": {
      "image/png": "[encoded data removed]",
      "text/plain": [
       "<Figure size 864x288 with 1 Axes>"
      ]
     },
     "metadata": {
      "image/png": {
       "height": 264,
       "width": 706
      },
      "needs_background": "light"
     },
     "output_type": "display_data"
    }
   ],
   "source": [
    "fig, ax = plt.subplots(figsize=(12, 4))\n",
    "ax.plot(w.mean(axis=1), bphh, linestyle=' ', marker='o', mfc='none', markersize=3)\n",
    "ax.set_ylim(0, 1)\n",
    "ax.set_yscale('symlog', linthresh=0.1)\n",
    "ax.set_yticks(np.linspace(0, 1, 11))\n",
    "ax.yaxis.set_major_formatter(mpl.ticker.StrMethodFormatter(\"{x:.1f}\"));"
   ]
  },
  {
   "cell_type": "code",
   "execution_count": null,
   "metadata": {},
   "outputs": [],
   "source": []
  }
 ],
 "metadata": {
  "kernelspec": {
   "display_name": "Python 3",
   "language": "python",
   "name": "python3"
  },
  "language_info": {
   "codemirror_mode": {
    "name": "ipython",
    "version": 3
   },
   "file_extension": ".py",
   "mimetype": "text/x-python",
   "name": "python",
   "nbconvert_exporter": "python",
   "pygments_lexer": "ipython3",
   "version": "3.7.6"
  }
 },
 "nbformat": 4,
 "nbformat_minor": 4
}

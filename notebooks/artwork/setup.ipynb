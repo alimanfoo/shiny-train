{
 "cells": [
  {
   "cell_type": "code",
   "execution_count": 1,
   "metadata": {},
   "outputs": [],
   "source": [
    "import zarr\n",
    "from pyprojroot import here\n",
    "import pandas as pd\n",
    "import numpy as np\n",
    "import allel\n",
    "import yaml\n",
    "import matplotlib.pyplot as plt\n",
    "import functools\n",
    "import seaborn as sns\n",
    "sns.set_context('paper')\n",
    "sns.set_style('darkgrid')\n",
    "import dask.array as da\n",
    "import scipy.interpolate\n",
    "import scipy.stats\n",
    "import petl as etl\n",
    "import pyfasta\n",
    "from matplotlib.ticker import MultipleLocator, FormatStrFormatter\n",
    "import numba\n",
    "import lmfit\n",
    "from bisect import bisect_left, bisect_right\n",
    "import itertools\n",
    "%matplotlib inline\n",
    "%config InlineBackend.figure_format = 'retina'"
   ]
  },
  {
   "cell_type": "code",
   "execution_count": 2,
   "metadata": {},
   "outputs": [],
   "source": [
    "# OLD VECTORBASE - gone\n",
    "\n",
    "# genome_path = here() / 'data/external/vectorbase/Anopheles-gambiae-PEST_CHROMOSOMES_AgamP4.fa'\n",
    "# genome = pyfasta.Fasta(str(genome_path), key_fn=lambda x: x.split()[0])\n",
    "\n",
    "# NEW VECTORBASE\n",
    "\n",
    "def _genome_key_fn(s):\n",
    "    k = s.split()[0]\n",
    "    if k.startswith('AgamP4'):\n",
    "        k = k.split('_')[1]\n",
    "    return k\n",
    "\n",
    "genome_path = here() / 'data/external/vectorbase/VectorBase-48_AgambiaePEST_Genome.fasta'\n",
    "genome = pyfasta.Fasta(str(genome_path), key_fn=_genome_key_fn)"
   ]
  },
  {
   "cell_type": "code",
   "execution_count": 3,
   "metadata": {},
   "outputs": [],
   "source": [
    "chromosomes = '2', '3', 'X'\n",
    "chromosome_plen = {\n",
    "    '2': len(genome['2R']) + len(genome['2L']), \n",
    "    '3': len(genome['3R']) + len(genome['3L']), \n",
    "    'X': len(genome['X'])\n",
    "}"
   ]
  },
  {
   "cell_type": "code",
   "execution_count": 4,
   "metadata": {},
   "outputs": [],
   "source": [
    "pop_defs_path = here() / 'notebooks/gwss/pop_defs.yml'\n",
    "with open(pop_defs_path, 'rt') as f:\n",
    "    pop_defs = yaml.safe_load(f)\n",
    "pops = list(pop_defs)"
   ]
  },
  {
   "cell_type": "code",
   "execution_count": 5,
   "metadata": {},
   "outputs": [],
   "source": [
    "h12_root_path = here() / 'data/gwss/h12/h12.zarr'\n",
    "h12_root = zarr.open_consolidated(str(h12_root_path))\n",
    "\n",
    "    \n",
    "def load_h12_gwss(pop, chromosome):\n",
    "    window_size = pop_defs[pop]['h12_window_size']\n",
    "    window_step = 200\n",
    "    grp = h12_root[f'{pop}/{window_size}/{window_step}/{chromosome}']\n",
    "    return (\n",
    "        grp['windows'][:],\n",
    "        grp['gwindows'][:],\n",
    "        grp['h1'][:],\n",
    "        grp['h12'][:],\n",
    "        grp['h123'][:],\n",
    "        grp['h2_h1'][:]\n",
    "    )"
   ]
  },
  {
   "cell_type": "code",
   "execution_count": 6,
   "metadata": {},
   "outputs": [],
   "source": [
    "ihs_root_path = here() / 'data/gwss/ihs/ihs.zarr'\n",
    "ihs_root = zarr.open_consolidated(str(ihs_root_path))\n",
    "\n",
    "\n",
    "@functools.lru_cache(maxsize=None)\n",
    "def load_ihs_gwss(pop, chromosome, window_size=200, window_step=100):\n",
    "    grp = ihs_root[f'{pop}/{chromosome}']\n",
    "    pos = grp['pos'][:]\n",
    "    gpos = grp['gpos'][:]\n",
    "    ihs_std = np.fabs(grp['ihs_std'][:])\n",
    "    x = allel.moving_statistic(pos, np.mean, size=window_size, step=window_step)\n",
    "    gx = allel.moving_statistic(gpos, np.mean, size=window_size, step=window_step)\n",
    "    y_max = allel.moving_statistic(ihs_std, np.max, size=window_size, step=window_step)\n",
    "    y_pc95 = allel.moving_statistic(ihs_std, lambda v: np.percentile(v, 95), size=window_size, step=window_step)\n",
    "    y_pc75 = allel.moving_statistic(ihs_std, lambda v: np.percentile(v, 75), size=window_size, step=window_step)\n",
    "    y_pc50 = allel.moving_statistic(ihs_std, np.median, size=window_size, step=window_step)\n",
    "    return x, gx, y_max, y_pc95, y_pc75, y_pc50\n"
   ]
  },
  {
   "cell_type": "code",
   "execution_count": 7,
   "metadata": {},
   "outputs": [],
   "source": [
    "xpehh_root_path = here() / 'data/gwss/xpehh/xpehh.zarr'\n",
    "xpehh_root = zarr.open_consolidated(str(xpehh_root_path))\n",
    "\n",
    "\n",
    "@functools.lru_cache(maxsize=None)\n",
    "def load_xpehh_gwss(pop1, pop2, chromosome, window_size=500, window_step=250):\n",
    "\n",
    "    # avoid running the same scan twice\n",
    "    orig_pop1, orig_pop2 = pop1, pop2\n",
    "    pop1, pop2 = sorted([pop1, pop2])\n",
    "    \n",
    "    grp = xpehh_root[f'{pop1}_{pop2}/{chromosome}']\n",
    "    pos = grp['pos'][:]\n",
    "    gpos = grp['gpos'][:]\n",
    "    xpehh = grp['xpehh'][:]\n",
    "\n",
    "    if pop1 == orig_pop2:\n",
    "        # flip back\n",
    "        xpehh = -xpehh\n",
    "        pop1, pop2 = pop2, pop1\n",
    "\n",
    "    # centre\n",
    "    xpehh = xpehh - np.median(xpehh)\n",
    "    \n",
    "    # clip at zero to focus on selection in pop1\n",
    "    xpehh1 = np.clip(xpehh, a_min=0, a_max=None)\n",
    "    \n",
    "    x = allel.moving_statistic(pos, np.mean, size=window_size, step=window_step)\n",
    "    gx = allel.moving_statistic(gpos, np.mean, size=window_size, step=window_step)\n",
    "    y_max = allel.moving_statistic(xpehh1, np.max, size=window_size, step=window_step)\n",
    "    y_pc95 = allel.moving_statistic(xpehh1, lambda v: np.percentile(v, 95), size=window_size, step=window_step)\n",
    "    y_pc75 = allel.moving_statistic(xpehh1, lambda v: np.percentile(v, 75), size=window_size, step=window_step)\n",
    "    y_pc50 = allel.moving_statistic(xpehh1, np.median, size=window_size, step=window_step)\n",
    "    \n",
    "    return x, gx, y_max, y_pc95, y_pc75, y_pc50\n"
   ]
  },
  {
   "cell_type": "code",
   "execution_count": 8,
   "metadata": {},
   "outputs": [],
   "source": [
    "pbs_root_path = here() / 'data/gwss/pbs/pbs.zarr'\n",
    "pbs_root = zarr.open_consolidated(str(pbs_root_path))\n",
    "\n",
    "\n",
    "def load_pbs_gwss(pop1, pop2, pop3, chromosome, window_size=500, window_step=250):\n",
    "\n",
    "    grp_path = f'/{pop1}_{pop2}_{pop3}/{window_size}/{window_step}/{chromosome}'\n",
    "    grp = pbs_root[grp_path]\n",
    "    windows = grp['windows'][:]\n",
    "    gwindows = grp['gwindows'][:]\n",
    "    pbs = grp['pbs'][:]\n",
    "    pbs_scaled = grp['pbs_scaled'][:]\n",
    "    \n",
    "    return windows, gwindows, pbs, pbs_scaled\n"
   ]
  },
  {
   "cell_type": "code",
   "execution_count": 9,
   "metadata": {},
   "outputs": [],
   "source": [
    "def load_genes():\n",
    "\n",
    "    # OLD VECTORBASE\n",
    "#     features_path = here() / 'data/external/vectorbase/Anopheles-gambiae-PEST_BASEFEATURES_AgamP4.12.gff3'\n",
    "#     df_genes = (\n",
    "#         allel.gff3_to_dataframe(\n",
    "#             str(features_path),\n",
    "#             attributes=['ID', 'Name', 'biotype']\n",
    "#         )\n",
    "#         .set_index('ID')\n",
    "#         .query(\"type == 'gene' and biotype == 'protein_coding'\")\n",
    "#     )\n",
    "\n",
    "    # NEW VECTORBASE\n",
    "    features_path = here() / 'data/external/vectorbase/VectorBase-48_AgambiaePEST.gff'\n",
    "    df_genes = (\n",
    "        allel.gff3_to_dataframe(\n",
    "            str(features_path),\n",
    "            attributes=['ID', 'description']\n",
    "        )\n",
    "        .sort_values(['seqid', 'start'])\n",
    "        .set_index('ID')\n",
    "        .query(\"type == 'gene'\")\n",
    "    )\n",
    "    # fix chromosome IDs\n",
    "    df_genes['seqid'] = df_genes['seqid'].str.split('_', expand=True).loc[:, 1]\n",
    "\n",
    "    # convert to chromosomal coordinates\n",
    "    df_genes['chromosome'] = df_genes['seqid'].copy()\n",
    "    df_genes['chromosome_start'] = df_genes['start'].copy()\n",
    "    df_genes['chromosome_end'] = df_genes['end'].copy()\n",
    "    loc_2R = df_genes.seqid == '2R'\n",
    "    df_genes.loc[loc_2R, 'chromosome'] = '2'\n",
    "    loc_2L = df_genes.seqid == '2L'\n",
    "    df_genes.loc[loc_2L, 'chromosome'] = '2'\n",
    "    df_genes.loc[loc_2L, 'chromosome_start'] = df_genes.loc[loc_2L, 'start'] + len(genome['2R'])\n",
    "    df_genes.loc[loc_2L, 'chromosome_end'] = df_genes.loc[loc_2L, 'end'] + len(genome['2R'])\n",
    "    loc_3R = df_genes.seqid == '3R'\n",
    "    df_genes.loc[loc_3R, 'chromosome'] = '3'\n",
    "    loc_3L = df_genes.seqid == '3L'\n",
    "    df_genes.loc[loc_3L, 'chromosome'] = '3'\n",
    "    df_genes.loc[loc_3L, 'chromosome_start'] = df_genes.loc[loc_3L, 'start'] + len(genome['3R'])\n",
    "    df_genes.loc[loc_3L, 'chromosome_end'] = df_genes.loc[loc_3L, 'end'] + len(genome['3R'])\n",
    "    df_genes['chromosome_center'] = (df_genes['chromosome_start'] + df_genes['chromosome_end']) / 2\n",
    "    \n",
    "    return df_genes\n",
    "\n",
    "\n",
    "df_genes = load_genes()"
   ]
  },
  {
   "cell_type": "code",
   "execution_count": 11,
   "metadata": {},
   "outputs": [],
   "source": [
    "import warnings"
   ]
  },
  {
   "cell_type": "code",
   "execution_count": 12,
   "metadata": {},
   "outputs": [],
   "source": [
    "with warnings.catch_warnings():\n",
    "    warnings.simplefilter('ignore')\n",
    "    ace1 = df_genes.loc['AGAP001356']\n",
    "    ace1['Name'] = 'Ace1'\n",
    "    cyp6p3 = df_genes.loc['AGAP002865']\n",
    "    cyp6p3['Name'] = 'Cyp6p3'\n",
    "    vgsc = df_genes.loc['AGAP004707']\n",
    "    vgsc['Name'] = 'Vgsc'\n",
    "    gaba = df_genes.loc['AGAP006028']\n",
    "    gaba['Name'] = 'Gaba'\n",
    "    gste2 = df_genes.loc['AGAP009194']\n",
    "    gste2['Name'] = 'Gste2'\n",
    "    cyp9k1 = df_genes.loc['AGAP000818']\n",
    "    cyp9k1['Name'] = 'Cyp9k1'\n",
    "    tep1 = df_genes.loc['AGAP010815']\n",
    "    tep1['Name'] = 'Tep1'\n",
    "ir_genes = [ace1, cyp6p3, vgsc, gaba, gste2, cyp9k1]"
   ]
  },
  {
   "cell_type": "code",
   "execution_count": 75,
   "metadata": {},
   "outputs": [
    {
     "name": "stderr",
     "output_type": "stream",
     "text": [
      "/home/aliman/malariagen/binder/conda/envs/shiny-train-v2.5.1/lib/python3.7/site-packages/ipykernel_launcher.py:2: SettingWithCopyWarning: \n",
      "A value is trying to be set on a copy of a slice from a DataFrame\n",
      "\n",
      "See the caveats in the documentation: https://pandas.pydata.org/pandas-docs/stable/user_guide/indexing.html#returning-a-view-versus-a-copy\n",
      "  \n",
      "/home/aliman/malariagen/binder/conda/envs/shiny-train-v2.5.1/lib/python3.7/site-packages/pandas/core/indexing.py:670: SettingWithCopyWarning: \n",
      "A value is trying to be set on a copy of a slice from a DataFrame\n",
      "\n",
      "See the caveats in the documentation: https://pandas.pydata.org/pandas-docs/stable/user_guide/indexing.html#returning-a-view-versus-a-copy\n",
      "  iloc._setitem_with_indexer(indexer, value)\n"
     ]
    },
    {
     "data": {
      "text/plain": [
       "seqid                                                               3L\n",
       "source                                                       VEuPathDB\n",
       "type                                                              gene\n",
       "start                                                         11201863\n",
       "end                                                           11206930\n",
       "score                                                               -1\n",
       "strand                                                               -\n",
       "phase                                                               -1\n",
       "description          Thioester-containing protein 1 [Source:UniProt...\n",
       "chromosome                                                           3\n",
       "chromosome_start                                              64402547\n",
       "chromosome_end                                                64407614\n",
       "chromosome_center                                          6.44051e+07\n",
       "Name                                                              Tep1\n",
       "Name: AGAP010815, dtype: object"
      ]
     },
     "execution_count": 75,
     "metadata": {},
     "output_type": "execute_result"
    }
   ],
   "source": [
    "tep1"
   ]
  },
  {
   "cell_type": "code",
   "execution_count": 13,
   "metadata": {},
   "outputs": [],
   "source": [
    "novel_loci = {\n",
    "    'A': ('2', 24_860_000),\n",
    "    'B': ('2', 40_940_000),\n",
    "    'C': ('2', 28_549_590 + len(genome['2R'])),\n",
    "    'D': ('2', 34_050_000 + len(genome['2R'])),\n",
    "    'E': ('X', 4_360_000),\n",
    "    'F': ('X', 9_220_000),\n",
    "}"
   ]
  },
  {
   "cell_type": "code",
   "execution_count": 14,
   "metadata": {},
   "outputs": [],
   "source": [
    "tbl_chromatin = [\n",
    "    ('name', 'chrom', 'start', 'end'),\n",
    "    ('CHX', 'X', 20009764, 24393108),\n",
    "    ('CH2R', '2R', 58984778, 61545105),\n",
    "    ('CH2L', '2L', 1, 2431617),\n",
    "    ('PEU2L', '2L', 2487770, 5042389),\n",
    "    ('IH2L', '2L', 5078962, 5788875),\n",
    "    ('IH3R', '3R', 38988757, 41860198),\n",
    "    ('CH3R', '3R', 52161877, 53200684),\n",
    "    ('CH3L', '3L', 1, 1815119),\n",
    "    ('PEU3L', '3L', 1896830, 4235209),\n",
    "    ('IH3L', '3L', 4264713, 5031692)\n",
    "]"
   ]
  },
  {
   "cell_type": "code",
   "execution_count": 15,
   "metadata": {},
   "outputs": [],
   "source": [
    "seq_ids = '2R', '2L', '3R', '3L', 'X'"
   ]
  },
  {
   "cell_type": "code",
   "execution_count": 16,
   "metadata": {},
   "outputs": [],
   "source": [
    "def build_gmap():\n",
    "    \n",
    "    # crude recombination rate lookup, keyed off chromatin state\n",
    "    # use units of cM / bp, assume 2 cM / Mbp == 2x10^-6 cM / bp\n",
    "    tbl_rr = (\n",
    "        etl.wrap(tbl_chromatin)\n",
    "        # extend heterochromatin on 2L - this is empirical, based on making vgsc peaks symmetrical\n",
    "        .update('end', 2840000, where=lambda r: r.name == 'CH2L')\n",
    "        .update('start', 2840001, where=lambda r: r.name == 'PEU2L')\n",
    "        .addfield('rr', lambda r: .5e-6 if 'H' in r.name else 2e-6)\n",
    "    )\n",
    "    \n",
    "    # per-base map of recombination rates\n",
    "    rr_map = {seq_id: np.full(len(genome[seq_id]), fill_value=2e-6, dtype='f8')\n",
    "              for seq_id in seq_ids}\n",
    "    for row in tbl_rr.records():\n",
    "        rr_map[row.chrom][row.start - 1:row.end] = row.rr\n",
    "        \n",
    "    # genetic map\n",
    "    gmap = {seq_id: np.cumsum(rr_map[seq_id]) for seq_id in seq_ids}\n",
    "    gmap['2'] = np.concatenate([gmap['2R'], gmap['2L'] + gmap['2R'][-1]])\n",
    "    gmap['3'] = np.concatenate([gmap['3R'], gmap['3L'] + gmap['3R'][-1]])\n",
    "    \n",
    "    return gmap\n",
    "\n",
    "gmap = build_gmap()"
   ]
  },
  {
   "cell_type": "code",
   "execution_count": null,
   "metadata": {},
   "outputs": [],
   "source": [
    "def mbp2cm(chromosome, pos):\n",
    "    \"\"\"Convert physical distance in Mbp to genetic distance in cM.\"\"\"\n",
    "    return bp2cm(chromosome, pos*1e6)\n",
    "\n",
    "\n",
    "def bp2cm(chromosome, pos):\n",
    "    \"\"\"Convert physical distance in bp to genetic distance in cM.\"\"\"\n",
    "    return gmap[chromosome][int(pos) - 1]\n"
   ]
  },
  {
   "cell_type": "code",
   "execution_count": 17,
   "metadata": {},
   "outputs": [],
   "source": [
    "def tex_italicize_species(s):\n",
    "    return (\n",
    "        s\n",
    "        .replace('An. gambiae', '\\textit{An. gambiae}')\n",
    "        .replace('An. coluzzii', '\\textit{An. coluzzii}')\n",
    "    )\n"
   ]
  },
  {
   "cell_type": "code",
   "execution_count": null,
   "metadata": {},
   "outputs": [],
   "source": [
    "def tex_math_species(s):\n",
    "    return (\n",
    "        s\n",
    "        .replace('An. gambiae', '$An. gambiae$')\n",
    "        .replace('An. coluzzii', '$An. coluzzii$')\n",
    "    )\n"
   ]
  },
  {
   "cell_type": "code",
   "execution_count": 18,
   "metadata": {},
   "outputs": [],
   "source": [
    "def root_mean_square(s):\n",
    "    return np.sqrt(np.mean(s**2))\n",
    "\n",
    "\n",
    "def mean_absolute(s):\n",
    "    return np.mean(np.fabs(s))\n"
   ]
  },
  {
   "cell_type": "code",
   "execution_count": null,
   "metadata": {},
   "outputs": [],
   "source": []
  }
 ],
 "metadata": {
  "kernelspec": {
   "display_name": "Python 3",
   "language": "python",
   "name": "python3"
  },
  "language_info": {
   "codemirror_mode": {
    "name": "ipython",
    "version": 3
   },
   "file_extension": ".py",
   "mimetype": "text/x-python",
   "name": "python",
   "nbconvert_exporter": "python",
   "pygments_lexer": "ipython3",
   "version": "3.7.6"
  }
 },
 "nbformat": 4,
 "nbformat_minor": 4
}
